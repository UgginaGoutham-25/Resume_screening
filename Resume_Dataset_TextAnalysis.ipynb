{
  "cells": [
    {
      "cell_type": "code",
      "execution_count": null,
      "metadata": {
        "id": "CC-FBLR8j2Ev"
      },
      "outputs": [],
      "source": [
        "#import all modules \n",
        "import numpy as np\n",
        "import pandas as pd\n",
        "\n",
        "import nltk\n",
        "from nltk.corpus import stopwords\n",
        "import string\n",
        "from wordcloud import WordCloud\n",
        "\n",
        "import seaborn as sns\n",
        "\n",
        "import matplotlib.pyplot as plt\n",
        "%matplotlib inline"
      ]
    },
    {
      "cell_type": "code",
      "execution_count": null,
      "metadata": {
        "colab": {
          "base_uri": "https://localhost:8080/",
          "height": 423
        },
        "id": "mXmCp80mk5wD",
        "outputId": "27ca674e-6c43-4ffb-b2dd-3f4ca87c1b21"
      },
      "outputs": [
        {
          "output_type": "execute_result",
          "data": {
            "text/plain": [
              "         Category                                             Resume\n",
              "0    Data Science  Skills * Programming Languages: Python (pandas...\n",
              "1    Data Science  Education Details \\r\\nMay 2013 to May 2017 B.E...\n",
              "2    Data Science  Areas of Interest Deep Learning, Control Syste...\n",
              "3    Data Science  Skills â¢ R â¢ Python â¢ SAP HANA â¢ Table...\n",
              "4    Data Science  Education Details \\r\\n MCA   YMCAUST,  Faridab...\n",
              "..            ...                                                ...\n",
              "957       Testing  Computer Skills: â¢ Proficient in MS office (...\n",
              "958       Testing  â Willingness to accept the challenges. â ...\n",
              "959       Testing  PERSONAL SKILLS â¢ Quick learner, â¢ Eagerne...\n",
              "960       Testing  COMPUTER SKILLS & SOFTWARE KNOWLEDGE MS-Power ...\n",
              "961       Testing  Skill Set OS Windows XP/7/8/8.1/10 Database MY...\n",
              "\n",
              "[962 rows x 2 columns]"
            ],
            "text/html": [
              "\n",
              "  <div id=\"df-63a83ba7-b0e1-41a4-b3e3-680f43377c23\">\n",
              "    <div class=\"colab-df-container\">\n",
              "      <div>\n",
              "<style scoped>\n",
              "    .dataframe tbody tr th:only-of-type {\n",
              "        vertical-align: middle;\n",
              "    }\n",
              "\n",
              "    .dataframe tbody tr th {\n",
              "        vertical-align: top;\n",
              "    }\n",
              "\n",
              "    .dataframe thead th {\n",
              "        text-align: right;\n",
              "    }\n",
              "</style>\n",
              "<table border=\"1\" class=\"dataframe\">\n",
              "  <thead>\n",
              "    <tr style=\"text-align: right;\">\n",
              "      <th></th>\n",
              "      <th>Category</th>\n",
              "      <th>Resume</th>\n",
              "    </tr>\n",
              "  </thead>\n",
              "  <tbody>\n",
              "    <tr>\n",
              "      <th>0</th>\n",
              "      <td>Data Science</td>\n",
              "      <td>Skills * Programming Languages: Python (pandas...</td>\n",
              "    </tr>\n",
              "    <tr>\n",
              "      <th>1</th>\n",
              "      <td>Data Science</td>\n",
              "      <td>Education Details \\r\\nMay 2013 to May 2017 B.E...</td>\n",
              "    </tr>\n",
              "    <tr>\n",
              "      <th>2</th>\n",
              "      <td>Data Science</td>\n",
              "      <td>Areas of Interest Deep Learning, Control Syste...</td>\n",
              "    </tr>\n",
              "    <tr>\n",
              "      <th>3</th>\n",
              "      <td>Data Science</td>\n",
              "      <td>Skills â¢ R â¢ Python â¢ SAP HANA â¢ Table...</td>\n",
              "    </tr>\n",
              "    <tr>\n",
              "      <th>4</th>\n",
              "      <td>Data Science</td>\n",
              "      <td>Education Details \\r\\n MCA   YMCAUST,  Faridab...</td>\n",
              "    </tr>\n",
              "    <tr>\n",
              "      <th>...</th>\n",
              "      <td>...</td>\n",
              "      <td>...</td>\n",
              "    </tr>\n",
              "    <tr>\n",
              "      <th>957</th>\n",
              "      <td>Testing</td>\n",
              "      <td>Computer Skills: â¢ Proficient in MS office (...</td>\n",
              "    </tr>\n",
              "    <tr>\n",
              "      <th>958</th>\n",
              "      <td>Testing</td>\n",
              "      <td>â Willingness to accept the challenges. â ...</td>\n",
              "    </tr>\n",
              "    <tr>\n",
              "      <th>959</th>\n",
              "      <td>Testing</td>\n",
              "      <td>PERSONAL SKILLS â¢ Quick learner, â¢ Eagerne...</td>\n",
              "    </tr>\n",
              "    <tr>\n",
              "      <th>960</th>\n",
              "      <td>Testing</td>\n",
              "      <td>COMPUTER SKILLS &amp; SOFTWARE KNOWLEDGE MS-Power ...</td>\n",
              "    </tr>\n",
              "    <tr>\n",
              "      <th>961</th>\n",
              "      <td>Testing</td>\n",
              "      <td>Skill Set OS Windows XP/7/8/8.1/10 Database MY...</td>\n",
              "    </tr>\n",
              "  </tbody>\n",
              "</table>\n",
              "<p>962 rows × 2 columns</p>\n",
              "</div>\n",
              "      <button class=\"colab-df-convert\" onclick=\"convertToInteractive('df-63a83ba7-b0e1-41a4-b3e3-680f43377c23')\"\n",
              "              title=\"Convert this dataframe to an interactive table.\"\n",
              "              style=\"display:none;\">\n",
              "        \n",
              "  <svg xmlns=\"http://www.w3.org/2000/svg\" height=\"24px\"viewBox=\"0 0 24 24\"\n",
              "       width=\"24px\">\n",
              "    <path d=\"M0 0h24v24H0V0z\" fill=\"none\"/>\n",
              "    <path d=\"M18.56 5.44l.94 2.06.94-2.06 2.06-.94-2.06-.94-.94-2.06-.94 2.06-2.06.94zm-11 1L8.5 8.5l.94-2.06 2.06-.94-2.06-.94L8.5 2.5l-.94 2.06-2.06.94zm10 10l.94 2.06.94-2.06 2.06-.94-2.06-.94-.94-2.06-.94 2.06-2.06.94z\"/><path d=\"M17.41 7.96l-1.37-1.37c-.4-.4-.92-.59-1.43-.59-.52 0-1.04.2-1.43.59L10.3 9.45l-7.72 7.72c-.78.78-.78 2.05 0 2.83L4 21.41c.39.39.9.59 1.41.59.51 0 1.02-.2 1.41-.59l7.78-7.78 2.81-2.81c.8-.78.8-2.07 0-2.86zM5.41 20L4 18.59l7.72-7.72 1.47 1.35L5.41 20z\"/>\n",
              "  </svg>\n",
              "      </button>\n",
              "      \n",
              "  <style>\n",
              "    .colab-df-container {\n",
              "      display:flex;\n",
              "      flex-wrap:wrap;\n",
              "      gap: 12px;\n",
              "    }\n",
              "\n",
              "    .colab-df-convert {\n",
              "      background-color: #E8F0FE;\n",
              "      border: none;\n",
              "      border-radius: 50%;\n",
              "      cursor: pointer;\n",
              "      display: none;\n",
              "      fill: #1967D2;\n",
              "      height: 32px;\n",
              "      padding: 0 0 0 0;\n",
              "      width: 32px;\n",
              "    }\n",
              "\n",
              "    .colab-df-convert:hover {\n",
              "      background-color: #E2EBFA;\n",
              "      box-shadow: 0px 1px 2px rgba(60, 64, 67, 0.3), 0px 1px 3px 1px rgba(60, 64, 67, 0.15);\n",
              "      fill: #174EA6;\n",
              "    }\n",
              "\n",
              "    [theme=dark] .colab-df-convert {\n",
              "      background-color: #3B4455;\n",
              "      fill: #D2E3FC;\n",
              "    }\n",
              "\n",
              "    [theme=dark] .colab-df-convert:hover {\n",
              "      background-color: #434B5C;\n",
              "      box-shadow: 0px 1px 3px 1px rgba(0, 0, 0, 0.15);\n",
              "      filter: drop-shadow(0px 1px 2px rgba(0, 0, 0, 0.3));\n",
              "      fill: #FFFFFF;\n",
              "    }\n",
              "  </style>\n",
              "\n",
              "      <script>\n",
              "        const buttonEl =\n",
              "          document.querySelector('#df-63a83ba7-b0e1-41a4-b3e3-680f43377c23 button.colab-df-convert');\n",
              "        buttonEl.style.display =\n",
              "          google.colab.kernel.accessAllowed ? 'block' : 'none';\n",
              "\n",
              "        async function convertToInteractive(key) {\n",
              "          const element = document.querySelector('#df-63a83ba7-b0e1-41a4-b3e3-680f43377c23');\n",
              "          const dataTable =\n",
              "            await google.colab.kernel.invokeFunction('convertToInteractive',\n",
              "                                                     [key], {});\n",
              "          if (!dataTable) return;\n",
              "\n",
              "          const docLinkHtml = 'Like what you see? Visit the ' +\n",
              "            '<a target=\"_blank\" href=https://colab.research.google.com/notebooks/data_table.ipynb>data table notebook</a>'\n",
              "            + ' to learn more about interactive tables.';\n",
              "          element.innerHTML = '';\n",
              "          dataTable['output_type'] = 'display_data';\n",
              "          await google.colab.output.renderOutput(dataTable, element);\n",
              "          const docLink = document.createElement('div');\n",
              "          docLink.innerHTML = docLinkHtml;\n",
              "          element.appendChild(docLink);\n",
              "        }\n",
              "      </script>\n",
              "    </div>\n",
              "  </div>\n",
              "  "
            ]
          },
          "metadata": {},
          "execution_count": 5
        }
      ],
      "source": [
        "#reading the data\n",
        "df = pd.read_csv('/content/Resume_Dataset.csv')\n",
        "df\n",
        "resume = df"
      ]
    },
    {
      "cell_type": "code",
      "execution_count": null,
      "metadata": {
        "colab": {
          "base_uri": "https://localhost:8080/"
        },
        "id": "zqbeEkdklxlG",
        "outputId": "ae4e3433-89f7-46f5-8567-47798ff92ef6"
      },
      "outputs": [
        {
          "output_type": "stream",
          "name": "stdout",
          "text": [
            "Resume Categories\n",
            "Java Developer               84\n",
            "Testing                      70\n",
            "DevOps Engineer              55\n",
            "Python Developer             48\n",
            "Web Designing                45\n",
            "HR                           44\n",
            "Hadoop                       42\n",
            "Blockchain                   40\n",
            "ETL Developer                40\n",
            "Operations Manager           40\n",
            "Data Science                 40\n",
            "Sales                        40\n",
            "Mechanical Engineer          40\n",
            "Arts                         36\n",
            "Database                     33\n",
            "Electrical Engineering       30\n",
            "Health and fitness           30\n",
            "PMO                          30\n",
            "Business Analyst             28\n",
            "DotNet Developer             28\n",
            "Automation Testing           26\n",
            "Network Security Engineer    25\n",
            "SAP Developer                24\n",
            "Civil Engineer               24\n",
            "Advocate                     20\n",
            "Name: Category, dtype: int64\n"
          ]
        }
      ],
      "source": [
        "print (\"Resume Categories\")\n",
        "print (df['Category'].value_counts())"
      ]
    },
    {
      "cell_type": "code",
      "execution_count": null,
      "metadata": {
        "colab": {
          "base_uri": "https://localhost:8080/",
          "height": 886
        },
        "id": "zHoRW6ifnmrG",
        "outputId": "313865ff-becb-4a4d-b445-c4d77ffc274e"
      },
      "outputs": [
        {
          "output_type": "execute_result",
          "data": {
            "text/plain": [
              "<Axes: xlabel='count', ylabel='Category'>"
            ]
          },
          "metadata": {},
          "execution_count": 4
        },
        {
          "output_type": "display_data",
          "data": {
            "text/plain": [
              "<Figure size 1500x1500 with 1 Axes>"
            ],
            "image/png": "[encoded data removed]"
          },
          "metadata": {}
        }
      ],
      "source": [
        "plt.figure(figsize=(15,15))\n",
        "plt.xticks(rotation=90)\n",
        "sns.countplot(y=\"Category\", data = df)"
      ]
    },
    {
      "cell_type": "code",
      "execution_count": null,
      "metadata": {
        "colab": {
          "base_uri": "https://localhost:8080/",
          "height": 157
        },
        "id": "FZ6EhNPjpQMt",
        "outputId": "55f4e920-4e8d-456f-9eeb-26dc8320b16a"
      },
      "outputs": [
        {
          "output_type": "execute_result",
          "data": {
            "text/plain": [
              "'Areas of Interest Deep Learning, Control System Design, Programming in-Python, Electric Machinery, Web Development, Analytics Technical Activities q Hindustan Aeronautics Limited, Bangalore - For 4 weeks under the guidance of Mr. Satish, Senior Engineer in the hangar of Mirage 2000 fighter aircraft Technical Skills Programming Matlab, Python and Java, LabView, Python WebFrameWork-Django, Flask, LTSPICE-intermediate Languages and and MIPOWER-intermediate, Github (GitBash), Jupyter Notebook, Xampp, MySQL-Basics, Python Software Packages Interpreters-Anaconda, Python2, Python3, Pycharm, Java IDE-Eclipse Operating Systems Windows, Ubuntu, Debian-Kali Linux Education Details \\r\\nJanuary 2019 B.Tech. Electrical and Electronics Engineering  Manipal Institute of Technology\\r\\nJanuary 2015    DEEKSHA CENTER\\r\\nJanuary 2013    Little Flower Public School\\r\\nAugust 2000    Manipal Academy of Higher\\r\\nDATA SCIENCE \\r\\n\\r\\nDATA SCIENCE AND ELECTRICAL ENTHUSIAST\\r\\nSkill Details \\r\\nData Analysis- Exprience - Less than 1 year months\\r\\nexcel- Exprience - Less than 1 year months\\r\\nMachine Learning- Exprience - Less than 1 year months\\r\\nmathematics- Exprience - Less than 1 year months\\r\\nPython- Exprience - Less than 1 year months\\r\\nMatlab- Exprience - Less than 1 year months\\r\\nElectrical Engineering- Exprience - Less than 1 year months\\r\\nSql- Exprience - Less than 1 year monthsCompany Details \\r\\ncompany - THEMATHCOMPANY\\r\\ndescription - I am currently working with a Casino based operator(name not to be disclosed) in Macau.I need to segment the customers who visit their property based on the value the patrons bring into the company.Basically prove that the segmentation can be done in much better way than the current system which they have with proper numbers to back it up.Henceforth they can implement target marketing strategy to attract their customers who add value to the business.'"
            ],
            "application/vnd.google.colaboratory.intrinsic+json": {
              "type": "string"
            }
          },
          "metadata": {},
          "execution_count": 5
        }
      ],
      "source": [
        "df[\"Resume\"][2]"
      ]
    },
    {
      "cell_type": "code",
      "execution_count": null,
      "metadata": {
        "colab": {
          "base_uri": "https://localhost:8080/",
          "height": 157
        },
        "id": "KksN2UQmpfN2",
        "outputId": "6ddd8960-a700-430f-873e-40ac387ac375"
      },
      "outputs": [
        {
          "output_type": "execute_result",
          "data": {
            "text/plain": [
              "'Education Details \\r\\nJanuary 2012 to January 2013 B.E. Electrical  Shivaji University\\r\\nSeptember 2008 HSC  Pune, Maharashtra Pune University\\r\\nJuly 2006 SSC  Pune, Maharashtra Pune University\\r\\nElectrical Engineer \\r\\n\\r\\nElectrical Engineer - R K ELECTRICAL PVT. LTD\\r\\nSkill Details \\r\\nCompany Details \\r\\ncompany - R K ELECTRICAL PVT. LTD\\r\\ndescription - Experience:- 1 Year 3 Months\\r\\n\\r\\nTroubleshooting and Maintenance of following Electrical Equipment:- â\\x80¢ All Type of Maintenance of Utility.\\r\\nâ\\x80¢ Electrical and Mechanical Maintenance.\\r\\nâ\\x80¢ Two 625 KVA Diesel Generator Set (Kirloskar)\\r\\nâ\\x80¢ HT/LT Switchgear With Protection System Using Relays and Provision For Interlocking (C&S, Kirloskar)\\r\\nâ\\x80¢ Handling HT Vacuum & SF6 Circuit Breaker, Transformer Up to 5000 KVA, LT Air circuit Breaker  2000A\\r\\nâ\\x80¢ Maintenance of STP and WTP Plant.\\r\\nâ\\x80¢ Maintenance of Air Blower, Actuators, Soft Starter, EOT Crane, Mono Rail, Centrifugal or Vertical Pumps, Hydraulic Machine, Rolling Machine, Lath Machine, Drill Machine, AHU, HVAC, Chiller etc.\\r\\nâ\\x80¢ Basic knowledge of PLC/SCADA Operation.\\r\\nâ\\x80¢ Trouble shooting of Switchgear and Control Panel, Pump and Motor\\r\\nâ\\x80¢ Maintenance of UPS, Battery Charger and Battery Bank\\r\\nâ\\x80¢ Motor Testing Both HT & LT Up to 450 KW\\r\\nâ\\x80¢ Monitoring and Controlling the 110V Control Panel and Relays Panel\\r\\nâ\\x80¢ Involved in Fault Finding & Relay Resetting\\r\\nâ\\x80¢ Monitoring and Correcting Power Factor\\r\\nâ\\x80¢ Service and Maintenance of Up to 55 KW Submersible Pump\\r\\nâ\\x80¢ Maintenance of MCC and PCC Panel\\r\\nâ\\x80¢ Servicing of Motor and Associated Component and Motor Operated Valve\\r\\nâ\\x80¢ Problem Solving of Power Contactor, Auxiliary Contactor Relay, CT and PT\\r\\nâ\\x80¢ Effecting Preventive/Predictive Maintenance Schedules Equipment in Order to Increase the Uptime/ Reliability\\r\\nâ\\x80¢ Maintenance & Operation in Day to Day Activity\\r\\nâ\\x80¢ Operation, Preventive Maintenance, Day to Day Breakdown Maintenance Conventional Maintaining of Log Book and Check List.\\r\\nâ\\x80¢ 33/22kV Main Feeder & 22/11kV Distribution Line Maint. & H.T/L.T S/S Break Down Work.\\r\\n\\r\\nELECTRICAL SAFETY (Knowledge of Various Aspect of Safety & Its Application)\\r\\nâ\\x80¢ Requirement, Familiar With Various Safety Equipment and Tools\\r\\nâ\\x80¢ Lockout, Tag out of Electrical Switchgear During Work\\r\\nâ\\x80¢ Issue of Work Permit Line Clearance to Work on Electrical Distribution Network\\r\\nâ\\x80¢ Requirement & Proper Usage of Protective Equipment\\r\\nâ\\x80¢ Accident Statistics'"
            ],
            "application/vnd.google.colaboratory.intrinsic+json": {
              "type": "string"
            }
          },
          "metadata": {},
          "execution_count": 6
        }
      ],
      "source": [
        "df[\"Resume\"][500]"
      ]
    },
    {
      "cell_type": "markdown",
      "metadata": {
        "id": "Cn_qoLQTqcST"
      },
      "source": [
        "**Data Cleaning**\n",
        "\n",
        "Now we have to clean the resume text\n"
      ]
    },
    {
      "cell_type": "code",
      "execution_count": null,
      "metadata": {
        "id": "jdavTVYRqtEH"
      },
      "outputs": [],
      "source": [
        "import re\n",
        "def cleanResume(resumeText):\n",
        "  resumeText = re.sub('http\\S+\\s*', ' ', resumeText)  # remove URLs\n",
        "  resumeText = re.sub('RT|cc', ' ', resumeText)  # remove RT and cc\n",
        "  resumeText = re.sub('#\\S+', '', resumeText)  # remove hashtags\n",
        "  resumeText = re.sub('@\\S+', '  ', resumeText)  # remove mentions\n",
        "  resumeText = re.sub('[%s]' % re.escape(\"\"\"!\"#$%&'()*+,-./:;<=>?@[\\]^_`{|}~\"\"\"), ' ', resumeText)  # remove punctuations\n",
        "  resumeText = re.sub(r'[^\\x00-\\x7f]',r' ', resumeText) \n",
        "  resumeText = re.sub('\\s+', ' ', resumeText)  # remove extra whitespace\n",
        "  return resumeText"
      ]
    },
    {
      "cell_type": "code",
      "execution_count": null,
      "metadata": {
        "id": "Amt391-orplC"
      },
      "outputs": [],
      "source": [
        "df['Cleaned_Resume'] = df.Resume.apply(lambda x: cleanResume(x))"
      ]
    },
    {
      "cell_type": "code",
      "execution_count": null,
      "metadata": {
        "colab": {
          "base_uri": "https://localhost:8080/",
          "height": 206
        },
        "id": "YDM2ARe9sGpC",
        "outputId": "c3ec95fb-f646-40d6-f780-9bb024397f2c"
      },
      "outputs": [
        {
          "output_type": "execute_result",
          "data": {
            "text/plain": [
              "       Category                                             Resume  \\\n",
              "0  Data Science  Skills * Programming Languages: Python (pandas...   \n",
              "1  Data Science  Education Details \\r\\nMay 2013 to May 2017 B.E...   \n",
              "2  Data Science  Areas of Interest Deep Learning, Control Syste...   \n",
              "3  Data Science  Skills â¢ R â¢ Python â¢ SAP HANA â¢ Table...   \n",
              "4  Data Science  Education Details \\r\\n MCA   YMCAUST,  Faridab...   \n",
              "\n",
              "                                      Cleaned_Resume  \n",
              "0  Skills Programming Languages Python pandas num...  \n",
              "1  Education Details May 2013 to May 2017 B E UIT...  \n",
              "2  Areas of Interest Deep Learning Control System...  \n",
              "3  Skills R Python SAP HANA Tableau SAP HANA SQL ...  \n",
              "4  Education Details MCA YMCAUST Faridabad Haryan...  "
            ],
            "text/html": [
              "\n",
              "  <div id=\"df-4c2a9460-b1e8-4bc8-a7dd-a0352f74de67\">\n",
              "    <div class=\"colab-df-container\">\n",
              "      <div>\n",
              "<style scoped>\n",
              "    .dataframe tbody tr th:only-of-type {\n",
              "        vertical-align: middle;\n",
              "    }\n",
              "\n",
              "    .dataframe tbody tr th {\n",
              "        vertical-align: top;\n",
              "    }\n",
              "\n",
              "    .dataframe thead th {\n",
              "        text-align: right;\n",
              "    }\n",
              "</style>\n",
              "<table border=\"1\" class=\"dataframe\">\n",
              "  <thead>\n",
              "    <tr style=\"text-align: right;\">\n",
              "      <th></th>\n",
              "      <th>Category</th>\n",
              "      <th>Resume</th>\n",
              "      <th>Cleaned_Resume</th>\n",
              "    </tr>\n",
              "  </thead>\n",
              "  <tbody>\n",
              "    <tr>\n",
              "      <th>0</th>\n",
              "      <td>Data Science</td>\n",
              "      <td>Skills * Programming Languages: Python (pandas...</td>\n",
              "      <td>Skills Programming Languages Python pandas num...</td>\n",
              "    </tr>\n",
              "    <tr>\n",
              "      <th>1</th>\n",
              "      <td>Data Science</td>\n",
              "      <td>Education Details \\r\\nMay 2013 to May 2017 B.E...</td>\n",
              "      <td>Education Details May 2013 to May 2017 B E UIT...</td>\n",
              "    </tr>\n",
              "    <tr>\n",
              "      <th>2</th>\n",
              "      <td>Data Science</td>\n",
              "      <td>Areas of Interest Deep Learning, Control Syste...</td>\n",
              "      <td>Areas of Interest Deep Learning Control System...</td>\n",
              "    </tr>\n",
              "    <tr>\n",
              "      <th>3</th>\n",
              "      <td>Data Science</td>\n",
              "      <td>Skills â¢ R â¢ Python â¢ SAP HANA â¢ Table...</td>\n",
              "      <td>Skills R Python SAP HANA Tableau SAP HANA SQL ...</td>\n",
              "    </tr>\n",
              "    <tr>\n",
              "      <th>4</th>\n",
              "      <td>Data Science</td>\n",
              "      <td>Education Details \\r\\n MCA   YMCAUST,  Faridab...</td>\n",
              "      <td>Education Details MCA YMCAUST Faridabad Haryan...</td>\n",
              "    </tr>\n",
              "  </tbody>\n",
              "</table>\n",
              "</div>\n",
              "      <button class=\"colab-df-convert\" onclick=\"convertToInteractive('df-4c2a9460-b1e8-4bc8-a7dd-a0352f74de67')\"\n",
              "              title=\"Convert this dataframe to an interactive table.\"\n",
              "              style=\"display:none;\">\n",
              "        \n",
              "  <svg xmlns=\"http://www.w3.org/2000/svg\" height=\"24px\"viewBox=\"0 0 24 24\"\n",
              "       width=\"24px\">\n",
              "    <path d=\"M0 0h24v24H0V0z\" fill=\"none\"/>\n",
              "    <path d=\"M18.56 5.44l.94 2.06.94-2.06 2.06-.94-2.06-.94-.94-2.06-.94 2.06-2.06.94zm-11 1L8.5 8.5l.94-2.06 2.06-.94-2.06-.94L8.5 2.5l-.94 2.06-2.06.94zm10 10l.94 2.06.94-2.06 2.06-.94-2.06-.94-.94-2.06-.94 2.06-2.06.94z\"/><path d=\"M17.41 7.96l-1.37-1.37c-.4-.4-.92-.59-1.43-.59-.52 0-1.04.2-1.43.59L10.3 9.45l-7.72 7.72c-.78.78-.78 2.05 0 2.83L4 21.41c.39.39.9.59 1.41.59.51 0 1.02-.2 1.41-.59l7.78-7.78 2.81-2.81c.8-.78.8-2.07 0-2.86zM5.41 20L4 18.59l7.72-7.72 1.47 1.35L5.41 20z\"/>\n",
              "  </svg>\n",
              "      </button>\n",
              "      \n",
              "  <style>\n",
              "    .colab-df-container {\n",
              "      display:flex;\n",
              "      flex-wrap:wrap;\n",
              "      gap: 12px;\n",
              "    }\n",
              "\n",
              "    .colab-df-convert {\n",
              "      background-color: #E8F0FE;\n",
              "      border: none;\n",
              "      border-radius: 50%;\n",
              "      cursor: pointer;\n",
              "      display: none;\n",
              "      fill: #1967D2;\n",
              "      height: 32px;\n",
              "      padding: 0 0 0 0;\n",
              "      width: 32px;\n",
              "    }\n",
              "\n",
              "    .colab-df-convert:hover {\n",
              "      background-color: #E2EBFA;\n",
              "      box-shadow: 0px 1px 2px rgba(60, 64, 67, 0.3), 0px 1px 3px 1px rgba(60, 64, 67, 0.15);\n",
              "      fill: #174EA6;\n",
              "    }\n",
              "\n",
              "    [theme=dark] .colab-df-convert {\n",
              "      background-color: #3B4455;\n",
              "      fill: #D2E3FC;\n",
              "    }\n",
              "\n",
              "    [theme=dark] .colab-df-convert:hover {\n",
              "      background-color: #434B5C;\n",
              "      box-shadow: 0px 1px 3px 1px rgba(0, 0, 0, 0.15);\n",
              "      filter: drop-shadow(0px 1px 2px rgba(0, 0, 0, 0.3));\n",
              "      fill: #FFFFFF;\n",
              "    }\n",
              "  </style>\n",
              "\n",
              "      <script>\n",
              "        const buttonEl =\n",
              "          document.querySelector('#df-4c2a9460-b1e8-4bc8-a7dd-a0352f74de67 button.colab-df-convert');\n",
              "        buttonEl.style.display =\n",
              "          google.colab.kernel.accessAllowed ? 'block' : 'none';\n",
              "\n",
              "        async function convertToInteractive(key) {\n",
              "          const element = document.querySelector('#df-4c2a9460-b1e8-4bc8-a7dd-a0352f74de67');\n",
              "          const dataTable =\n",
              "            await google.colab.kernel.invokeFunction('convertToInteractive',\n",
              "                                                     [key], {});\n",
              "          if (!dataTable) return;\n",
              "\n",
              "          const docLinkHtml = 'Like what you see? Visit the ' +\n",
              "            '<a target=\"_blank\" href=https://colab.research.google.com/notebooks/data_table.ipynb>data table notebook</a>'\n",
              "            + ' to learn more about interactive tables.';\n",
              "          element.innerHTML = '';\n",
              "          dataTable['output_type'] = 'display_data';\n",
              "          await google.colab.output.renderOutput(dataTable, element);\n",
              "          const docLink = document.createElement('div');\n",
              "          docLink.innerHTML = docLinkHtml;\n",
              "          element.appendChild(docLink);\n",
              "        }\n",
              "      </script>\n",
              "    </div>\n",
              "  </div>\n",
              "  "
            ]
          },
          "metadata": {},
          "execution_count": 9
        }
      ],
      "source": [
        "df.head()"
      ]
    },
    {
      "cell_type": "code",
      "execution_count": null,
      "metadata": {
        "colab": {
          "base_uri": "https://localhost:8080/"
        },
        "id": "GQNbXY_1sKqO",
        "outputId": "2285e7c7-0e0b-4957-f8d9-af92e3b072d0"
      },
      "outputs": [
        {
          "output_type": "execute_result",
          "data": {
            "text/plain": [
              "962"
            ]
          },
          "metadata": {},
          "execution_count": 10
        }
      ],
      "source": [
        "len(df)"
      ]
    },
    {
      "cell_type": "code",
      "execution_count": null,
      "metadata": {
        "id": "OHsoQObgsdnL"
      },
      "outputs": [],
      "source": [
        "#getting the entire resume text from the dataset\n",
        "\n",
        "corpus = \" \"\n",
        "\n",
        "for i in range(0,962):\n",
        "  corpus = corpus+df[\"Cleaned_Resume\"][i]"
      ]
    },
    {
      "cell_type": "code",
      "execution_count": null,
      "metadata": {
        "colab": {
          "base_uri": "https://localhost:8080/",
          "height": 157
        },
        "id": "fgitITQvswcn",
        "outputId": "7ef2b4dd-4735-418d-9fd0-b561fd69fd45"
      },
      "outputs": [
        {
          "output_type": "execute_result",
          "data": {
            "text/plain": [
              "'review process and run analytics and generate reports Core member of a team helped in developing automated review platform tool from scratch for assisting E discovery domain this tool implements predictive coding and topic modelling by automating reviews resulting in reduced labor costs and time spent during the lawyers review Understand the end to end flow of the solution doing research and development for classification models predictive analysis and mining of the information present in text data Worked on analyzing the outputs and precision monitoring for the entire tool TAR assists in predictive coding topic modelling from the evidence by following EY standards Developed the classifier models in order to identify red flags and fraud related issues Tools Technologies Python scikit learn tfidf word2vec doc2vec cosine similarity Na ve Bayes LDA NMF for topic modelling Vader and text blob for sentiment analysis Matplot lib Tableau dashboard for reporting MULTIPLE DATA SCIENCE AND ANALYTIC PROJECTS USA CLIENTS TEXT ANALYTICS MOTOR VEHICLE CUSTOMER REVIEW DATA Received customer feedback survey data for past one year Performed sentiment Positive Negative Neutral and time series analysis on customer comments across all 4 categories Created heat map of terms by survey category based on frequency of words Extracted Positive and Negative words across all the Survey categories and plotted Word cloud Created customized tableau dashboards for effective reporting and visualizations CHAT'"
            ],
            "application/vnd.google.colaboratory.intrinsic+json": {
              "type": "string"
            }
          },
          "metadata": {},
          "execution_count": 12
        }
      ],
      "source": [
        "corpus[1000:2500]"
      ]
    },
    {
      "cell_type": "code",
      "execution_count": null,
      "metadata": {
        "colab": {
          "base_uri": "https://localhost:8080/"
        },
        "id": "BenBYbzbs2GJ",
        "outputId": "7752f321-2227-4595-b15a-40c9b6927eb8"
      },
      "outputs": [
        {
          "output_type": "execute_result",
          "data": {
            "text/plain": [
              "411913"
            ]
          },
          "metadata": {},
          "execution_count": 13
        }
      ],
      "source": [
        "#Creating the tokenizer\n",
        "tokenizer = nltk.tokenize.RegexpTokenizer('\\w+')\n",
        "\n",
        "#Tokenizing the text\n",
        "tokens = tokenizer.tokenize(corpus)\n",
        "\n",
        "len(tokens)"
      ]
    },
    {
      "cell_type": "code",
      "execution_count": null,
      "metadata": {
        "id": "BCptPssZvtX7"
      },
      "outputs": [],
      "source": [
        "#Conversion into Lowercase For Uniformity ,now we shall make everthing into lowercase\n",
        "#to hold the new lower case words\n",
        "\n",
        "words = []\n",
        "\n",
        "#Running a For loop i.e looping through the tokens and make them lower case\n",
        "for word in tokens:\n",
        "  words.append(word.lower())"
      ]
    },
    {
      "cell_type": "code",
      "execution_count": null,
      "metadata": {
        "colab": {
          "base_uri": "https://localhost:8080/"
        },
        "id": "RgXAJ2bGyF6c",
        "outputId": "81f1cdaf-f9eb-4540-d63b-d7ea3287fde3"
      },
      "outputs": [
        {
          "output_type": "stream",
          "name": "stderr",
          "text": [
            "[nltk_data] Downloading package stopwords to /root/nltk_data...\n",
            "[nltk_data]   Unzipping corpora/stopwords.zip.\n"
          ]
        },
        {
          "output_type": "execute_result",
          "data": {
            "text/plain": [
              "True"
            ]
          },
          "metadata": {},
          "execution_count": 15
        }
      ],
      "source": [
        "import nltk\n",
        "nltk.download('stopwords')"
      ]
    },
    {
      "cell_type": "code",
      "execution_count": null,
      "metadata": {
        "id": "nbA5ziKZyOnz"
      },
      "outputs": [],
      "source": [
        "#stop words are generally the most commaon words in a language.\n",
        "#English stopwords are taken  from nltk.\n",
        "\n",
        "stopwords = nltk.corpus.stopwords.words('english')\n",
        "\n",
        "words_new = []\n",
        "\n",
        "#Now we need to remove the Stop words from the words varaiable\n",
        "#Appending to words_new all words taht are in words but not in stop words\n",
        "\n",
        "for word in words:\n",
        "  if word not in stopwords:\n",
        "    words_new.append(word)\n",
        "\n"
      ]
    },
    {
      "cell_type": "code",
      "execution_count": null,
      "metadata": {
        "colab": {
          "base_uri": "https://localhost:8080/"
        },
        "id": "eUQUhqAx0S6T",
        "outputId": "03c339d2-796f-4183-8282-dd496cb9cb5a"
      },
      "outputs": [
        {
          "output_type": "execute_result",
          "data": {
            "text/plain": [
              "318305"
            ]
          },
          "metadata": {},
          "execution_count": 17
        }
      ],
      "source": [
        "len(words_new)"
      ]
    },
    {
      "cell_type": "markdown",
      "metadata": {
        "id": "JHh9ih2Z0fuv"
      },
      "source": [
        "**Lemmatization**\n",
        "\n",
        "It is the process of grouping together the different inflected forms of a word so they can be analyzed into single term i.e so it links words with similar meaning into single word"
      ]
    },
    {
      "cell_type": "code",
      "source": [],
      "metadata": {
        "id": "oNMdE3ZHzoq8"
      },
      "execution_count": null,
      "outputs": []
    },
    {
      "cell_type": "code",
      "execution_count": null,
      "metadata": {
        "colab": {
          "base_uri": "https://localhost:8080/"
        },
        "id": "-U6ggxpa0V4A",
        "outputId": "a4ac744f-c905-41e2-ec39-be07856e0056"
      },
      "outputs": [
        {
          "output_type": "stream",
          "name": "stderr",
          "text": [
            "[nltk_data] Downloading package wordnet to /root/nltk_data...\n",
            "[nltk_data] Downloading package omw-1.4 to /root/nltk_data...\n"
          ]
        },
        {
          "output_type": "execute_result",
          "data": {
            "text/plain": [
              "True"
            ]
          },
          "metadata": {},
          "execution_count": 18
        }
      ],
      "source": [
        "import nltk\n",
        "nltk.download('wordnet')\n",
        "nltk.download('omw-1.4')"
      ]
    },
    {
      "cell_type": "code",
      "execution_count": null,
      "metadata": {
        "id": "UyZITnx_1bWA"
      },
      "outputs": [],
      "source": [
        "from nltk.stem import WordNetLemmatizer\n",
        "\n",
        "wn = WordNetLemmatizer()\n",
        "\n",
        "lem_words=[]\n",
        "for word in words_new:\n",
        "  words = wn.lemmatize(word)\n",
        "  lem_words.append(words)"
      ]
    },
    {
      "cell_type": "code",
      "execution_count": null,
      "metadata": {
        "colab": {
          "base_uri": "https://localhost:8080/"
        },
        "id": "B_MOT9vQ16vl",
        "outputId": "0c146181-d3e4-4060-b9ea-829b18bd9594"
      },
      "outputs": [
        {
          "output_type": "execute_result",
          "data": {
            "text/plain": [
              "318305"
            ]
          },
          "metadata": {},
          "execution_count": 20
        }
      ],
      "source": [
        "len(lem_words) \n",
        "#print(lem_words)"
      ]
    },
    {
      "cell_type": "code",
      "execution_count": null,
      "metadata": {
        "colab": {
          "base_uri": "https://localhost:8080/"
        },
        "id": "vFkuQ0q1C5vV",
        "outputId": "440fd5df-03d7-476e-c288-154df4a3946c"
      },
      "outputs": [
        {
          "output_type": "stream",
          "name": "stdout",
          "text": [
            "Number of words Lemmatized= 294\n",
            "Number of words not Lemmatized= 1538\n"
          ]
        }
      ],
      "source": [
        "same=0\n",
        "diff=0\n",
        "for i in range(0,1832):\n",
        "    if(lem_words[i]==words_new[i]):\n",
        "        same=same+1\n",
        "    elif(lem_words[i]!=words_new[i]):\n",
        "        diff=diff+1\n",
        "print('Number of words Lemmatized=', diff)\n",
        "print('Number of words not Lemmatized=', same)"
      ]
    },
    {
      "cell_type": "markdown",
      "metadata": {
        "id": "bAfjZVsR6ecJ"
      },
      "source": [
        "Frequency distribution"
      ]
    },
    {
      "cell_type": "code",
      "execution_count": null,
      "metadata": {
        "id": "FG2p41BU3K2t"
      },
      "outputs": [],
      "source": [
        "#To know the frequency Distribution of words\n",
        "freq_dist = nltk.FreqDist(lem_words)"
      ]
    },
    {
      "cell_type": "code",
      "execution_count": null,
      "metadata": {
        "colab": {
          "base_uri": "https://localhost:8080/",
          "height": 670
        },
        "id": "Cv6vfvvy6suO",
        "outputId": "fae00dde-24ab-45c5-95fa-79388cafc30b"
      },
      "outputs": [
        {
          "output_type": "display_data",
          "data": {
            "text/plain": [
              "<Figure size 2000x1200 with 1 Axes>"
            ],
            "image/png": "[encoded data removed]"
          },
          "metadata": {}
        },
        {
          "output_type": "execute_result",
          "data": {
            "text/plain": [
              "<Axes: xlabel='Samples', ylabel='Counts'>"
            ]
          },
          "metadata": {},
          "execution_count": 23
        }
      ],
      "source": [
        "#frequency Distribution plot\n",
        "plt.subplots(figsize=(20,12))\n",
        "freq_dist.plot(30)"
      ]
    },
    {
      "cell_type": "code",
      "execution_count": null,
      "metadata": {
        "colab": {
          "base_uri": "https://localhost:8080/"
        },
        "id": "XXYwFbuU62of",
        "outputId": "0f02e383-d193-4bb8-ce1f-6d006e9c600e"
      },
      "outputs": [
        {
          "output_type": "execute_result",
          "data": {
            "text/plain": [
              "6769"
            ]
          },
          "metadata": {},
          "execution_count": 24
        }
      ],
      "source": [
        "len(freq_dist)"
      ]
    },
    {
      "cell_type": "code",
      "execution_count": null,
      "metadata": {
        "id": "F-0BsGbO7-f3"
      },
      "outputs": [],
      "source": [
        "mostcommon = freq_dist.most_common(50)"
      ]
    },
    {
      "cell_type": "code",
      "execution_count": null,
      "metadata": {
        "colab": {
          "base_uri": "https://localhost:8080/"
        },
        "id": "-yKg7bcO8Suk",
        "outputId": "044309c2-c095-4084-c996-7162802d5736"
      },
      "outputs": [
        {
          "output_type": "execute_result",
          "data": {
            "text/plain": [
              "[('project', 4071),\n",
              " ('exprience', 3829),\n",
              " ('company', 3635),\n",
              " ('month', 3344),\n",
              " ('detail', 3132),\n",
              " ('description', 3122),\n",
              " ('team', 2159),\n",
              " ('data', 2138),\n",
              " ('1', 2134),\n",
              " ('management', 2024),\n",
              " ('skill', 1990),\n",
              " ('system', 1944),\n",
              " ('database', 1533),\n",
              " ('6', 1499),\n",
              " ('year', 1499),\n",
              " ('client', 1466),\n",
              " ('maharashtra', 1449),\n",
              " ('application', 1394),\n",
              " ('service', 1375),\n",
              " ('technology', 1360),\n",
              " ('testing', 1349),\n",
              " ('test', 1297),\n",
              " ('requirement', 1274),\n",
              " ('business', 1273),\n",
              " ('report', 1229),\n",
              " ('le', 1217),\n",
              " ('development', 1204),\n",
              " ('server', 1196),\n",
              " ('developer', 1194),\n",
              " ('customer', 1178),\n",
              " ('ltd', 1177),\n",
              " ('process', 1163),\n",
              " ('responsibility', 1137),\n",
              " ('using', 1124),\n",
              " ('sql', 1120),\n",
              " ('january', 1090),\n",
              " ('java', 1076),\n",
              " ('engineering', 1055),\n",
              " ('work', 1038),\n",
              " ('pune', 1026),\n",
              " ('role', 969),\n",
              " ('c', 951),\n",
              " ('user', 916),\n",
              " ('operation', 895),\n",
              " ('software', 886),\n",
              " ('pvt', 879),\n",
              " ('sale', 845),\n",
              " ('activity', 832),\n",
              " ('environment', 800),\n",
              " ('design', 786)]"
            ]
          },
          "metadata": {},
          "execution_count": 26
        }
      ],
      "source": [
        "mostcommon"
      ]
    },
    {
      "cell_type": "markdown",
      "metadata": {
        "id": "3JsWgtGP8l4G"
      },
      "source": [
        "WordCloud"
      ]
    },
    {
      "cell_type": "markdown",
      "source": [
        "Category Anylsis"
      ],
      "metadata": {
        "id": "iwb27TN9r0jl"
      }
    },
    {
      "cell_type": "code",
      "source": [
        "data_science=df[df[\"Category\"]==\"Data Science\"]"
      ],
      "metadata": {
        "id": "DCKuDqqkrByf"
      },
      "execution_count": null,
      "outputs": []
    },
    {
      "cell_type": "code",
      "source": [
        "data_science.head()"
      ],
      "metadata": {
        "colab": {
          "base_uri": "https://localhost:8080/",
          "height": 206
        },
        "id": "BjX-lQaMsGSh",
        "outputId": "3f9c7e49-ae83-476b-f98b-da07dcfb789c"
      },
      "execution_count": null,
      "outputs": [
        {
          "output_type": "execute_result",
          "data": {
            "text/plain": [
              "       Category                                             Resume  \\\n",
              "0  Data Science  Skills * Programming Languages: Python (pandas...   \n",
              "1  Data Science  Education Details \\r\\nMay 2013 to May 2017 B.E...   \n",
              "2  Data Science  Areas of Interest Deep Learning, Control Syste...   \n",
              "3  Data Science  Skills â¢ R â¢ Python â¢ SAP HANA â¢ Table...   \n",
              "4  Data Science  Education Details \\r\\n MCA   YMCAUST,  Faridab...   \n",
              "\n",
              "                                      Cleaned_Resume  \n",
              "0  Skills Programming Languages Python pandas num...  \n",
              "1  Education Details May 2013 to May 2017 B E UIT...  \n",
              "2  Areas of Interest Deep Learning Control System...  \n",
              "3  Skills R Python SAP HANA Tableau SAP HANA SQL ...  \n",
              "4  Education Details MCA YMCAUST Faridabad Haryan...  "
            ],
            "text/html": [
              "\n",
              "  <div id=\"df-e78b8492-812f-467b-8c33-3eb93d1fe7d1\">\n",
              "    <div class=\"colab-df-container\">\n",
              "      <div>\n",
              "<style scoped>\n",
              "    .dataframe tbody tr th:only-of-type {\n",
              "        vertical-align: middle;\n",
              "    }\n",
              "\n",
              "    .dataframe tbody tr th {\n",
              "        vertical-align: top;\n",
              "    }\n",
              "\n",
              "    .dataframe thead th {\n",
              "        text-align: right;\n",
              "    }\n",
              "</style>\n",
              "<table border=\"1\" class=\"dataframe\">\n",
              "  <thead>\n",
              "    <tr style=\"text-align: right;\">\n",
              "      <th></th>\n",
              "      <th>Category</th>\n",
              "      <th>Resume</th>\n",
              "      <th>Cleaned_Resume</th>\n",
              "    </tr>\n",
              "  </thead>\n",
              "  <tbody>\n",
              "    <tr>\n",
              "      <th>0</th>\n",
              "      <td>Data Science</td>\n",
              "      <td>Skills * Programming Languages: Python (pandas...</td>\n",
              "      <td>Skills Programming Languages Python pandas num...</td>\n",
              "    </tr>\n",
              "    <tr>\n",
              "      <th>1</th>\n",
              "      <td>Data Science</td>\n",
              "      <td>Education Details \\r\\nMay 2013 to May 2017 B.E...</td>\n",
              "      <td>Education Details May 2013 to May 2017 B E UIT...</td>\n",
              "    </tr>\n",
              "    <tr>\n",
              "      <th>2</th>\n",
              "      <td>Data Science</td>\n",
              "      <td>Areas of Interest Deep Learning, Control Syste...</td>\n",
              "      <td>Areas of Interest Deep Learning Control System...</td>\n",
              "    </tr>\n",
              "    <tr>\n",
              "      <th>3</th>\n",
              "      <td>Data Science</td>\n",
              "      <td>Skills â¢ R â¢ Python â¢ SAP HANA â¢ Table...</td>\n",
              "      <td>Skills R Python SAP HANA Tableau SAP HANA SQL ...</td>\n",
              "    </tr>\n",
              "    <tr>\n",
              "      <th>4</th>\n",
              "      <td>Data Science</td>\n",
              "      <td>Education Details \\r\\n MCA   YMCAUST,  Faridab...</td>\n",
              "      <td>Education Details MCA YMCAUST Faridabad Haryan...</td>\n",
              "    </tr>\n",
              "  </tbody>\n",
              "</table>\n",
              "</div>\n",
              "      <button class=\"colab-df-convert\" onclick=\"convertToInteractive('df-e78b8492-812f-467b-8c33-3eb93d1fe7d1')\"\n",
              "              title=\"Convert this dataframe to an interactive table.\"\n",
              "              style=\"display:none;\">\n",
              "        \n",
              "  <svg xmlns=\"http://www.w3.org/2000/svg\" height=\"24px\"viewBox=\"0 0 24 24\"\n",
              "       width=\"24px\">\n",
              "    <path d=\"M0 0h24v24H0V0z\" fill=\"none\"/>\n",
              "    <path d=\"M18.56 5.44l.94 2.06.94-2.06 2.06-.94-2.06-.94-.94-2.06-.94 2.06-2.06.94zm-11 1L8.5 8.5l.94-2.06 2.06-.94-2.06-.94L8.5 2.5l-.94 2.06-2.06.94zm10 10l.94 2.06.94-2.06 2.06-.94-2.06-.94-.94-2.06-.94 2.06-2.06.94z\"/><path d=\"M17.41 7.96l-1.37-1.37c-.4-.4-.92-.59-1.43-.59-.52 0-1.04.2-1.43.59L10.3 9.45l-7.72 7.72c-.78.78-.78 2.05 0 2.83L4 21.41c.39.39.9.59 1.41.59.51 0 1.02-.2 1.41-.59l7.78-7.78 2.81-2.81c.8-.78.8-2.07 0-2.86zM5.41 20L4 18.59l7.72-7.72 1.47 1.35L5.41 20z\"/>\n",
              "  </svg>\n",
              "      </button>\n",
              "      \n",
              "  <style>\n",
              "    .colab-df-container {\n",
              "      display:flex;\n",
              "      flex-wrap:wrap;\n",
              "      gap: 12px;\n",
              "    }\n",
              "\n",
              "    .colab-df-convert {\n",
              "      background-color: #E8F0FE;\n",
              "      border: none;\n",
              "      border-radius: 50%;\n",
              "      cursor: pointer;\n",
              "      display: none;\n",
              "      fill: #1967D2;\n",
              "      height: 32px;\n",
              "      padding: 0 0 0 0;\n",
              "      width: 32px;\n",
              "    }\n",
              "\n",
              "    .colab-df-convert:hover {\n",
              "      background-color: #E2EBFA;\n",
              "      box-shadow: 0px 1px 2px rgba(60, 64, 67, 0.3), 0px 1px 3px 1px rgba(60, 64, 67, 0.15);\n",
              "      fill: #174EA6;\n",
              "    }\n",
              "\n",
              "    [theme=dark] .colab-df-convert {\n",
              "      background-color: #3B4455;\n",
              "      fill: #D2E3FC;\n",
              "    }\n",
              "\n",
              "    [theme=dark] .colab-df-convert:hover {\n",
              "      background-color: #434B5C;\n",
              "      box-shadow: 0px 1px 3px 1px rgba(0, 0, 0, 0.15);\n",
              "      filter: drop-shadow(0px 1px 2px rgba(0, 0, 0, 0.3));\n",
              "      fill: #FFFFFF;\n",
              "    }\n",
              "  </style>\n",
              "\n",
              "      <script>\n",
              "        const buttonEl =\n",
              "          document.querySelector('#df-e78b8492-812f-467b-8c33-3eb93d1fe7d1 button.colab-df-convert');\n",
              "        buttonEl.style.display =\n",
              "          google.colab.kernel.accessAllowed ? 'block' : 'none';\n",
              "\n",
              "        async function convertToInteractive(key) {\n",
              "          const element = document.querySelector('#df-e78b8492-812f-467b-8c33-3eb93d1fe7d1');\n",
              "          const dataTable =\n",
              "            await google.colab.kernel.invokeFunction('convertToInteractive',\n",
              "                                                     [key], {});\n",
              "          if (!dataTable) return;\n",
              "\n",
              "          const docLinkHtml = 'Like what you see? Visit the ' +\n",
              "            '<a target=\"_blank\" href=https://colab.research.google.com/notebooks/data_table.ipynb>data table notebook</a>'\n",
              "            + ' to learn more about interactive tables.';\n",
              "          element.innerHTML = '';\n",
              "          dataTable['output_type'] = 'display_data';\n",
              "          await google.colab.output.renderOutput(dataTable, element);\n",
              "          const docLink = document.createElement('div');\n",
              "          docLink.innerHTML = docLinkHtml;\n",
              "          element.appendChild(docLink);\n",
              "        }\n",
              "      </script>\n",
              "    </div>\n",
              "  </div>\n",
              "  "
            ]
          },
          "metadata": {},
          "execution_count": 28
        }
      ]
    },
    {
      "cell_type": "code",
      "source": [
        "len(data_science)"
      ],
      "metadata": {
        "colab": {
          "base_uri": "https://localhost:8080/"
        },
        "id": "MbbYWdpbsTJP",
        "outputId": "e4e9c37f-eb3b-4d0d-d017-ef2976679854"
      },
      "execution_count": null,
      "outputs": [
        {
          "output_type": "execute_result",
          "data": {
            "text/plain": [
              "40"
            ]
          },
          "metadata": {},
          "execution_count": 29
        }
      ]
    },
    {
      "cell_type": "code",
      "source": [
        "#Getting the Entire resume text\n",
        "\n",
        "data_science_corpus= \" \"\n",
        "\n",
        "for i in range(0,40):\n",
        "  data_science_corpus = data_science_corpus+data_science[\"Cleaned_Resume\"][i]"
      ],
      "metadata": {
        "id": "Y09-DLWLtcT2"
      },
      "execution_count": null,
      "outputs": []
    },
    {
      "cell_type": "code",
      "source": [
        "data_science_corpus=data_science_corpus.lower()"
      ],
      "metadata": {
        "id": "fBIxAhjTvATO"
      },
      "execution_count": null,
      "outputs": []
    },
    {
      "cell_type": "code",
      "source": [
        "words_data_science = data_science_corpus.split()"
      ],
      "metadata": {
        "id": "IJZI70FZvKKS"
      },
      "execution_count": null,
      "outputs": []
    },
    {
      "cell_type": "code",
      "source": [
        "print('Frequency of \"python\" is :', words_data_science.count(\"python\"))"
      ],
      "metadata": {
        "colab": {
          "base_uri": "https://localhost:8080/"
        },
        "id": "a9xtzVsWvQ0E",
        "outputId": "5a37df2f-d421-41e4-ab5a-e076572c5090"
      },
      "execution_count": null,
      "outputs": [
        {
          "output_type": "stream",
          "name": "stdout",
          "text": [
            "Frequency of \"python\" is : 176\n"
          ]
        }
      ]
    },
    {
      "cell_type": "code",
      "source": [
        "print('Frequency of \"sap\" is :', words_data_science.count(\"sap\"))"
      ],
      "metadata": {
        "colab": {
          "base_uri": "https://localhost:8080/"
        },
        "id": "Ydo9BVHyvsyw",
        "outputId": "ed323b83-f8e2-473a-8038-321333151a70"
      },
      "execution_count": null,
      "outputs": [
        {
          "output_type": "stream",
          "name": "stdout",
          "text": [
            "Frequency of \"sap\" is : 68\n"
          ]
        }
      ]
    },
    {
      "cell_type": "code",
      "source": [
        "print('Frequency of \"analysis\" is :', words_data_science.count(\"analysis\"))"
      ],
      "metadata": {
        "colab": {
          "base_uri": "https://localhost:8080/"
        },
        "id": "IUZ6vsKsv4IO",
        "outputId": "c29b1fe2-e667-494c-a6e4-d80e0589cf81"
      },
      "execution_count": null,
      "outputs": [
        {
          "output_type": "stream",
          "name": "stdout",
          "text": [
            "Frequency of \"analysis\" is : 84\n"
          ]
        }
      ]
    },
    {
      "cell_type": "code",
      "source": [
        "print('Frequency of \"sql\" is :', words_data_science.count(\"sql\"))"
      ],
      "metadata": {
        "colab": {
          "base_uri": "https://localhost:8080/"
        },
        "id": "qY9SH2rgwNMI",
        "outputId": "5fe3d294-6309-446f-cd17-c6dd81125ed5"
      },
      "execution_count": null,
      "outputs": [
        {
          "output_type": "stream",
          "name": "stdout",
          "text": [
            "Frequency of \"sql\" is : 72\n"
          ]
        }
      ]
    },
    {
      "cell_type": "code",
      "source": [
        "print('Frequency of \"neural\" is :', words_data_science.count(\"neural\"))"
      ],
      "metadata": {
        "colab": {
          "base_uri": "https://localhost:8080/"
        },
        "id": "lhWEgupfwWMC",
        "outputId": "3721641e-9f84-462d-a60a-12f9e004e210"
      },
      "execution_count": null,
      "outputs": [
        {
          "output_type": "stream",
          "name": "stdout",
          "text": [
            "Frequency of \"neural\" is : 48\n"
          ]
        }
      ]
    },
    {
      "cell_type": "code",
      "source": [
        "print('Frequency of \"network\" is :', words_data_science.count(\"network\"))"
      ],
      "metadata": {
        "colab": {
          "base_uri": "https://localhost:8080/"
        },
        "id": "a7fXW9oGwglZ",
        "outputId": "a04a65c3-4be6-4eda-fd9b-1053c7fdae36"
      },
      "execution_count": null,
      "outputs": [
        {
          "output_type": "stream",
          "name": "stdout",
          "text": [
            "Frequency of \"network\" is : 12\n"
          ]
        }
      ]
    },
    {
      "cell_type": "code",
      "source": [
        "print('Frequency of \"networks\" is :', words_data_science.count(\"networks\"))"
      ],
      "metadata": {
        "colab": {
          "base_uri": "https://localhost:8080/"
        },
        "id": "3h75y9FTwnrT",
        "outputId": "12600c85-7c34-4903-f689-76897bcd2d42"
      },
      "execution_count": null,
      "outputs": [
        {
          "output_type": "stream",
          "name": "stdout",
          "text": [
            "Frequency of \"networks\" is : 20\n"
          ]
        }
      ]
    },
    {
      "cell_type": "code",
      "source": [
        "print('Frequency of \"pandas\" is :', words_data_science.count(\"pandas\"))"
      ],
      "metadata": {
        "colab": {
          "base_uri": "https://localhost:8080/"
        },
        "id": "mQmanCdKwuAG",
        "outputId": "5b46dd02-8912-4fcd-e144-70be93fc5c2c"
      },
      "execution_count": null,
      "outputs": [
        {
          "output_type": "stream",
          "name": "stdout",
          "text": [
            "Frequency of \"pandas\" is : 24\n"
          ]
        }
      ]
    },
    {
      "cell_type": "code",
      "source": [
        "print('Frequency of \"r\" is :', words_data_science.count(\"r\"))"
      ],
      "metadata": {
        "colab": {
          "base_uri": "https://localhost:8080/"
        },
        "id": "ZWEhARGow7XG",
        "outputId": "7924c84f-0a16-46fd-f90d-341a09f3fb33"
      },
      "execution_count": null,
      "outputs": [
        {
          "output_type": "stream",
          "name": "stdout",
          "text": [
            "Frequency of \"r\" is : 36\n"
          ]
        }
      ]
    },
    {
      "cell_type": "code",
      "source": [
        "print('Frequency of \"excel\" is :', words_data_science.count(\"excel\"))"
      ],
      "metadata": {
        "colab": {
          "base_uri": "https://localhost:8080/"
        },
        "id": "iCilJcdTxA38",
        "outputId": "0449a3f1-45ba-448b-d1e9-9c06e52cf86c"
      },
      "execution_count": null,
      "outputs": [
        {
          "output_type": "stream",
          "name": "stdout",
          "text": [
            "Frequency of \"excel\" is : 12\n"
          ]
        }
      ]
    },
    {
      "cell_type": "code",
      "source": [
        "print('Frequency of \"anaconda\" is :', words_data_science.count(\"anaconda\"))"
      ],
      "metadata": {
        "colab": {
          "base_uri": "https://localhost:8080/"
        },
        "id": "YfxqJYgLxIEe",
        "outputId": "7e178460-bc2a-4183-ec26-ebd624bee6dc"
      },
      "execution_count": null,
      "outputs": [
        {
          "output_type": "stream",
          "name": "stdout",
          "text": [
            "Frequency of \"anaconda\" is : 4\n"
          ]
        }
      ]
    },
    {
      "cell_type": "code",
      "source": [
        "print('Frequency of \"education\" is :', words_data_science.count(\"education\"))"
      ],
      "metadata": {
        "colab": {
          "base_uri": "https://localhost:8080/"
        },
        "id": "A05bnOKFxWgk",
        "outputId": "c7c76249-dfc0-4db0-c996-df3907e526af"
      },
      "execution_count": null,
      "outputs": [
        {
          "output_type": "stream",
          "name": "stdout",
          "text": [
            "Frequency of \"education\" is : 48\n"
          ]
        }
      ]
    },
    {
      "cell_type": "code",
      "source": [
        "print('Frequency of \"jupyter\" is :', words_data_science.count(\"jupyter\"))"
      ],
      "metadata": {
        "colab": {
          "base_uri": "https://localhost:8080/"
        },
        "id": "cw-dT4ZMxf_e",
        "outputId": "1046a791-9503-4061-8546-f2fda7fcb5b0"
      },
      "execution_count": null,
      "outputs": [
        {
          "output_type": "stream",
          "name": "stdout",
          "text": [
            "Frequency of \"jupyter\" is : 4\n"
          ]
        }
      ]
    },
    {
      "cell_type": "code",
      "source": [
        "print('Frequency of \"experience\" is :', words_data_science.count(\"experience\"))"
      ],
      "metadata": {
        "colab": {
          "base_uri": "https://localhost:8080/"
        },
        "id": "-Dg4SlXbxnua",
        "outputId": "24d4c7ef-f27d-4979-b95b-3f8012b25e71"
      },
      "execution_count": null,
      "outputs": [
        {
          "output_type": "stream",
          "name": "stdout",
          "text": [
            "Frequency of \"experience\" is : 52\n"
          ]
        }
      ]
    },
    {
      "cell_type": "code",
      "source": [],
      "metadata": {
        "id": "rPeMKnqyxvV5"
      },
      "execution_count": null,
      "outputs": []
    }
  ],
  "metadata": {
    "colab": {
      "provenance": []
    },
    "gpuClass": "standard",
    "kernelspec": {
      "display_name": "Python 3",
      "name": "python3"
    },
    "language_info": {
      "name": "python"
    }
  },
  "nbformat": 4,
  "nbformat_minor": 0
}